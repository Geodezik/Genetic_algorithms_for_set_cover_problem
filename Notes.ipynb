{
 "cells": [
  {
   "cell_type": "code",
   "execution_count": 1,
   "metadata": {},
   "outputs": [],
   "source": [
    "import numpy as np\n",
    "from matplotlib import pyplot as plt"
   ]
  },
  {
   "cell_type": "markdown",
   "metadata": {},
   "source": [
    "Let $M \\in B^{m*n}$ a boolean matrix without zero rows. We have to build an algorithm $a(M) = C$, where $C$ is a $\\textbf{\\textit{coverage}}$ of $M$.\n",
    "\n",
    "$\\textbf{Definition 1.}$ A set of columns $C$ is called a $\\textbf{coverage}$ of a boolean matrix $M$ if matrix $M'$ built with these columns only has no zero rows.\n",
    "\n",
    "$\\textbf{Definition 2.}$ A set of columns is called $\\textbf{irredcuible}$ if\n",
    "\n",
    "$\\textbf{Definition 3.}$ A set of columns is called $\\textbf{irredundant}$ if"
   ]
  },
  {
   "cell_type": "markdown",
   "metadata": {},
   "source": [
    "Finding exact coverages is NP-full problem. We will simplify our task and search for $\\textbf{\\textit{almost-coverages}}$.\n",
    "Genetic algorithms is a standart approach for finding approximate solutions like these.\n",
    "\n",
    "0. Input:\n",
    "    - Matrix $M$ as defined earlier.\n",
    "    - Starting population size $N$.\n",
    "    - Population size after crossover $K$.\n",
    "    - Mutation probability $p$.\n",
    "    \n",
    "    Create a random population with random individuals. Each chromosome is a boolean vector of length $n$.\n",
    "1. Crossover: one-point-crossover.\n",
    "2. Mutation: one bit has to be changed with $p \\approx 0.15$ (single-gene mutation).\n",
    "3. Choose $N$ best individuals. Fitness (criterion) for a boolean vector $v$ can be defined in multiple ways:\n",
    "\n",
    "    1.\n",
    "        $$F_1(v) = \\sum_{i=1}^{m} [\\sum_{j=1}^{n}M'_{ij} = 0]$$\n",
    "        How many rows weren't covered by set of columns corresponding to $v$. Problem: degradation of a population.\n",
    "        Solution: cataclysms, destroy part of the population.\n",
    "\n",
    "    2.\n",
    "        $$F_2(v) = \\sum_{i=1}^{m} [\\sum_{j=1}^{n}M'_{ij} = 0] + const*AlikePenalty$$\n",
    "        Penalty for close or same solutions (effective ways to check it?). cross-validation const???\n",
    "\n",
    "    3.\n",
    "        $$F_3(v) = ???$$\n",
    "        Experiments with 2, find its problems, create a new formula.\n",
    "\n",
    "$\\textbf{Definition 3.}$ ..."
   ]
  },
  {
   "cell_type": "markdown",
   "metadata": {},
   "source": []
  }
 ],
 "metadata": {
  "kernelspec": {
   "display_name": "Python 3",
   "language": "python",
   "name": "python3"
  },
  "language_info": {
   "codemirror_mode": {
    "name": "ipython",
    "version": 3
   },
   "file_extension": ".py",
   "mimetype": "text/x-python",
   "name": "python",
   "nbconvert_exporter": "python",
   "pygments_lexer": "ipython3",
   "version": "3.8.10"
  },
  "orig_nbformat": 4
 },
 "nbformat": 4,
 "nbformat_minor": 2
}
